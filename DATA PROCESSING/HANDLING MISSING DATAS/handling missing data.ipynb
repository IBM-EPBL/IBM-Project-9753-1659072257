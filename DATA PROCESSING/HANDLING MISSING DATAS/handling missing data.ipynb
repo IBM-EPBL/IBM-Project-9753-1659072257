{
 "cells": [
  {
   "cell_type": "markdown",
   "id": "7ebee09d-3593-444e-9199-f3b404fd50f5",
   "metadata": {},
   "source": [
    "HANDLEING MISSING DATA"
   ]
  },
  {
   "cell_type": "code",
   "execution_count": 1,
   "id": "f5dfaa6d-7b4b-4e89-af0a-394f92d4f417",
   "metadata": {},
   "outputs": [
    {
     "data": {
      "text/plain": [
       "(8223, 2)"
      ]
     },
     "execution_count": 1,
     "metadata": {},
     "output_type": "execute_result"
    }
   ],
   "source": [
    "import pandas as pd\n",
    "ds=pd.read_excel(r\"C:\\Users\\Dhyalan\\Desktop\\Crude Oil Prices Daily1.xlsx\") \n",
    "ds.shape"
   ]
  },
  {
   "cell_type": "code",
   "execution_count": 2,
   "id": "4eb7bfde-5e40-42a7-a2d4-ce8971e6bf60",
   "metadata": {},
   "outputs": [
    {
     "data": {
      "text/html": [
       "<div>\n",
       "<style scoped>\n",
       "    .dataframe tbody tr th:only-of-type {\n",
       "        vertical-align: middle;\n",
       "    }\n",
       "\n",
       "    .dataframe tbody tr th {\n",
       "        vertical-align: top;\n",
       "    }\n",
       "\n",
       "    .dataframe thead th {\n",
       "        text-align: right;\n",
       "    }\n",
       "</style>\n",
       "<table border=\"1\" class=\"dataframe\">\n",
       "  <thead>\n",
       "    <tr style=\"text-align: right;\">\n",
       "      <th></th>\n",
       "      <th>Date</th>\n",
       "      <th>Closing Value</th>\n",
       "    </tr>\n",
       "  </thead>\n",
       "  <tbody>\n",
       "    <tr>\n",
       "      <th>0</th>\n",
       "      <td>1986-01-02</td>\n",
       "      <td>25.56</td>\n",
       "    </tr>\n",
       "    <tr>\n",
       "      <th>1</th>\n",
       "      <td>1986-01-03</td>\n",
       "      <td>26.00</td>\n",
       "    </tr>\n",
       "    <tr>\n",
       "      <th>2</th>\n",
       "      <td>1986-01-06</td>\n",
       "      <td>26.53</td>\n",
       "    </tr>\n",
       "    <tr>\n",
       "      <th>3</th>\n",
       "      <td>1986-01-07</td>\n",
       "      <td>25.85</td>\n",
       "    </tr>\n",
       "    <tr>\n",
       "      <th>4</th>\n",
       "      <td>1986-01-08</td>\n",
       "      <td>25.87</td>\n",
       "    </tr>\n",
       "  </tbody>\n",
       "</table>\n",
       "</div>"
      ],
      "text/plain": [
       "        Date  Closing Value\n",
       "0 1986-01-02          25.56\n",
       "1 1986-01-03          26.00\n",
       "2 1986-01-06          26.53\n",
       "3 1986-01-07          25.85\n",
       "4 1986-01-08          25.87"
      ]
     },
     "execution_count": 2,
     "metadata": {},
     "output_type": "execute_result"
    }
   ],
   "source": [
    "ds.head()"
   ]
  },
  {
   "cell_type": "code",
   "execution_count": 8,
   "id": "fea81cb9-685c-49cd-9caa-b040e8565f00",
   "metadata": {},
   "outputs": [
    {
     "data": {
      "text/plain": [
       "Date             0\n",
       "Closing Value    7\n",
       "dtype: int64"
      ]
     },
     "execution_count": 8,
     "metadata": {},
     "output_type": "execute_result"
    }
   ],
   "source": [
    "ds.isnull().sum()"
   ]
  },
  {
   "cell_type": "code",
   "execution_count": 11,
   "id": "3ea51293-583c-4af6-8ee0-83bf2b761d87",
   "metadata": {},
   "outputs": [
    {
     "name": "stdout",
     "output_type": "stream",
     "text": [
      "           Date  Closing Value\n",
      "0    1986-01-02          25.56\n",
      "1    1986-01-03          26.00\n",
      "2    1986-01-06          26.53\n",
      "3    1986-01-07          25.85\n",
      "4    1986-01-08          25.87\n",
      "...         ...            ...\n",
      "8217 2018-07-02          73.89\n",
      "8218 2018-07-03          74.19\n",
      "8220 2018-07-05          73.05\n",
      "8221 2018-07-06          73.78\n",
      "8222 2018-07-09          73.93\n",
      "\n",
      "[8216 rows x 2 columns]\n"
     ]
    }
   ],
   "source": [
    "hd=ds.dropna()\n",
    "print(hd)"
   ]
  },
  {
   "cell_type": "code",
   "execution_count": 12,
   "id": "ad44e932-4b55-4789-9d1a-04ced62648b7",
   "metadata": {},
   "outputs": [
    {
     "data": {
      "text/plain": [
       "Date             0\n",
       "Closing Value    0\n",
       "dtype: int64"
      ]
     },
     "execution_count": 12,
     "metadata": {},
     "output_type": "execute_result"
    }
   ],
   "source": [
    "hd.isnull().sum()"
   ]
  },
  {
   "cell_type": "code",
   "execution_count": null,
   "id": "7f6286ad-43e1-4cab-9105-b91239b0037a",
   "metadata": {},
   "outputs": [],
   "source": []
  }
 ],
 "metadata": {
  "kernelspec": {
   "display_name": "Python 3 (ipykernel)",
   "language": "python",
   "name": "python3"
  },
  "language_info": {
   "codemirror_mode": {
    "name": "ipython",
    "version": 3
   },
   "file_extension": ".py",
   "mimetype": "text/x-python",
   "name": "python",
   "nbconvert_exporter": "python",
   "pygments_lexer": "ipython3",
   "version": "3.9.12"
  }
 },
 "nbformat": 4,
 "nbformat_minor": 5
}
