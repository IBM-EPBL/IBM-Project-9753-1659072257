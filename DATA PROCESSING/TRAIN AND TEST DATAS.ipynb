{
 "cells": [
  {
   "cell_type": "code",
   "execution_count": 1,
   "id": "52461450-e97f-4da0-b129-333981105420",
   "metadata": {},
   "outputs": [
    {
     "data": {
      "text/html": [
       "<div>\n",
       "<style scoped>\n",
       "    .dataframe tbody tr th:only-of-type {\n",
       "        vertical-align: middle;\n",
       "    }\n",
       "\n",
       "    .dataframe tbody tr th {\n",
       "        vertical-align: top;\n",
       "    }\n",
       "\n",
       "    .dataframe thead th {\n",
       "        text-align: right;\n",
       "    }\n",
       "</style>\n",
       "<table border=\"1\" class=\"dataframe\">\n",
       "  <thead>\n",
       "    <tr style=\"text-align: right;\">\n",
       "      <th></th>\n",
       "      <th>Date</th>\n",
       "      <th>Closing Value</th>\n",
       "    </tr>\n",
       "  </thead>\n",
       "  <tbody>\n",
       "    <tr>\n",
       "      <th>0</th>\n",
       "      <td>1986-01-02</td>\n",
       "      <td>25.56</td>\n",
       "    </tr>\n",
       "    <tr>\n",
       "      <th>1</th>\n",
       "      <td>1986-01-03</td>\n",
       "      <td>26.00</td>\n",
       "    </tr>\n",
       "    <tr>\n",
       "      <th>2</th>\n",
       "      <td>1986-01-06</td>\n",
       "      <td>26.53</td>\n",
       "    </tr>\n",
       "    <tr>\n",
       "      <th>3</th>\n",
       "      <td>1986-01-07</td>\n",
       "      <td>25.85</td>\n",
       "    </tr>\n",
       "    <tr>\n",
       "      <th>4</th>\n",
       "      <td>1986-01-08</td>\n",
       "      <td>25.87</td>\n",
       "    </tr>\n",
       "  </tbody>\n",
       "</table>\n",
       "</div>"
      ],
      "text/plain": [
       "        Date  Closing Value\n",
       "0 1986-01-02          25.56\n",
       "1 1986-01-03          26.00\n",
       "2 1986-01-06          26.53\n",
       "3 1986-01-07          25.85\n",
       "4 1986-01-08          25.87"
      ]
     },
     "execution_count": 1,
     "metadata": {},
     "output_type": "execute_result"
    }
   ],
   "source": [
    "import numpy as np\n",
    "import pandas as pd\n",
    "import seaborn as sns\n",
    "import matplotlib.pyplot as plt\n",
    "ds=pd.read_excel(r\"C:\\Users\\Dhyalan\\Desktop\\Crude Oil Prices Daily.xlsx\") \n",
    "ds.head()"
   ]
  },
  {
   "cell_type": "code",
   "execution_count": 2,
   "id": "6837e885-e52f-435a-8460-23b0b1fb15e8",
   "metadata": {},
   "outputs": [],
   "source": [
    "import pandas as pd\n",
    "from sklearn.linear_model import LinearRegression\n",
    "from sklearn.model_selection import train_test_split\n",
    " \n",
    "# get the locations\n",
    "X = ds.iloc[:, :-1]\n",
    "y = ds.iloc[:, -1]\n",
    " \n",
    "# split the dataset\n",
    "X_train, X_test, y_train, y_test = train_test_split(\n",
    "    X, y, test_size=0.05, random_state=0)"
   ]
  },
  {
   "cell_type": "code",
   "execution_count": 5,
   "id": "93aa0241-1aec-439b-98c3-b059fd00f1e6",
   "metadata": {},
   "outputs": [
    {
     "name": "stdout",
     "output_type": "stream",
     "text": [
      "           Date\n",
      "1940 1993-08-11\n",
      "2270 1994-12-01\n",
      "2500 1995-10-30\n",
      "572  1988-04-07\n",
      "7144 2014-04-29\n",
      "...         ...\n",
      "4373 2003-04-17\n",
      "7891 2017-03-30\n",
      "4859 2005-03-31\n",
      "3264 1998-11-10\n",
      "2732 1996-10-01\n",
      "\n",
      "[7811 rows x 1 columns]            Date\n",
      "5993 2009-10-02\n",
      "7764 2016-09-30\n",
      "7937 2017-06-05\n",
      "7986 2017-08-11\n",
      "2402 1995-06-12\n",
      "...         ...\n",
      "6706 2012-08-01\n",
      "5489 2007-10-03\n",
      "7663 2016-05-15\n",
      "396  1987-07-30\n",
      "8206 2018-06-15\n",
      "\n",
      "[412 rows x 1 columns] 1940     17.87\n",
      "2270     17.77\n",
      "2500     17.67\n",
      "572      17.05\n",
      "7144    101.56\n",
      "         ...  \n",
      "4373     30.10\n",
      "7891     50.35\n",
      "4859     55.31\n",
      "3264     13.54\n",
      "2732     24.35\n",
      "Name: Closing Value, Length: 7811, dtype: float64 5993    69.80\n",
      "7764    48.24\n",
      "7937    47.40\n",
      "7986    48.82\n",
      "2402    18.87\n",
      "        ...  \n",
      "6706    88.99\n",
      "5489    79.97\n",
      "7663    46.80\n",
      "396     21.47\n",
      "8206    65.01\n",
      "Name: Closing Value, Length: 412, dtype: float64\n"
     ]
    }
   ],
   "source": [
    "print(X_train, X_test, y_train, y_test)"
   ]
  },
  {
   "cell_type": "code",
   "execution_count": null,
   "id": "b60de909-4eee-401f-b721-e8b3c96a45ce",
   "metadata": {},
   "outputs": [],
   "source": []
  }
 ],
 "metadata": {
  "kernelspec": {
   "display_name": "Python 3 (ipykernel)",
   "language": "python",
   "name": "python3"
  },
  "language_info": {
   "codemirror_mode": {
    "name": "ipython",
    "version": 3
   },
   "file_extension": ".py",
   "mimetype": "text/x-python",
   "name": "python",
   "nbconvert_exporter": "python",
   "pygments_lexer": "ipython3",
   "version": "3.9.12"
  }
 },
 "nbformat": 4,
 "nbformat_minor": 5
}
